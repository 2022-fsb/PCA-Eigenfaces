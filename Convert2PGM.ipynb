{
 "cells": [
  {
   "cell_type": "markdown",
   "metadata": {},
   "source": [
    "Convert the datasets form GIF to PGM."
   ]
  },
  {
   "cell_type": "code",
   "execution_count": 11,
   "metadata": {},
   "outputs": [],
   "source": [
    "import os\n",
    "from PIL import Image\n",
    "import pathlib"
   ]
  },
  {
   "cell_type": "code",
   "execution_count": 12,
   "metadata": {},
   "outputs": [],
   "source": [
    "#List all files in the directory and read points from GIF files one by one\n",
    "path = 'image_faces/image_face_1/'\n",
    "path2save = 'image_face_1/'\n",
    "for i, filePath in enumerate(os.listdir(path)):\n",
    "    os.makedirs('%s/%s' % (path2save, i))\n",
    "    path_save = \"%s%s\" % (path2save, i)\n",
    "    if filePath.endswith(\".gif\"):\n",
    "        img = Image.open(os.path.join(path,filePath));\n",
    "        img = img.convert('RGB');\n",
    "        outfile = '%s/%s.pgm' % (path_save, filePath)\n",
    "        img.save(outfile)"
   ]
  },
  {
   "cell_type": "code",
   "execution_count": 13,
   "metadata": {},
   "outputs": [],
   "source": [
    "#List all files in the directory and read points from GIF files one by one\n",
    "path = 'image_faces/image_face_2/'\n",
    "path2save = 'image_face_2/'\n",
    "for i, filePath in enumerate(os.listdir(path)):\n",
    "    os.makedirs('%s/%s' % (path2save, i))\n",
    "    path_save = \"%s%s\" % (path2save, i)\n",
    "    if filePath.endswith(\".gif\"):\n",
    "        img = Image.open(os.path.join(path,filePath));\n",
    "        img = img.convert('RGB');\n",
    "        outfile = '%s/%s.pgm' % (path_save, filePath)\n",
    "        img.save(outfile)"
   ]
  },
  {
   "cell_type": "code",
   "execution_count": 14,
   "metadata": {},
   "outputs": [],
   "source": [
    "#List all files in the directory and read points from GIF files one by one\n",
    "path = 'image_faces/image_face_1/'\n",
    "path_to_save = 'image_face_2/'\n",
    "for i, filePath in enumerate(os.listdir(path)):\n",
    "    path_save = \"%s%s\" % (path_to_save, i)\n",
    "    if filePath.endswith(\".gif\"):\n",
    "        img = Image.open(os.path.join(path,filePath));\n",
    "        img = img.convert('RGB');\n",
    "        outfile = '%s/%s.pgm' % (path_save, filePath)\n",
    "        img.save(outfile)"
   ]
  },
  {
   "cell_type": "code",
   "execution_count": 15,
   "metadata": {},
   "outputs": [],
   "source": [
    "#List all files in the directory and read points from GIF files one by one\n",
    "path = 'image_faces/image_face_3/'\n",
    "path_to_save = 'image_face_2/'\n",
    "for i, filePath in enumerate(os.listdir(path)):\n",
    "    path_save = \"%s%s\" % (path_to_save, i)\n",
    "    if filePath.endswith(\".gif\"):\n",
    "        img = Image.open(os.path.join(path,filePath));\n",
    "        img = img.convert('RGB');\n",
    "        outfile = '%s/%s.pgm' % (path_save, filePath)\n",
    "        img.save(outfile)"
   ]
  },
  {
   "cell_type": "code",
   "execution_count": null,
   "metadata": {},
   "outputs": [],
   "source": []
  }
 ],
 "metadata": {
  "kernelspec": {
   "display_name": "Python 3",
   "language": "python",
   "name": "python3"
  },
  "language_info": {
   "codemirror_mode": {
    "name": "ipython",
    "version": 3
   },
   "file_extension": ".py",
   "mimetype": "text/x-python",
   "name": "python",
   "nbconvert_exporter": "python",
   "pygments_lexer": "ipython3",
   "version": "3.6.3"
  }
 },
 "nbformat": 4,
 "nbformat_minor": 2
}
