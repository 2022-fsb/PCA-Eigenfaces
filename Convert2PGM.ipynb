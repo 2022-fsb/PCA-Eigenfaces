{
 "cells": [
  {
   "cell_type": "markdown",
   "metadata": {},
   "source": [
    "Convert the datasets form GIF to PGM."
   ]
  },
  {
   "cell_type": "code",
   "execution_count": 1,
   "metadata": {},
   "outputs": [],
   "source": [
    "import os\n",
    "from PIL import Image"
   ]
  },
  {
   "cell_type": "code",
   "execution_count": 2,
   "metadata": {},
   "outputs": [],
   "source": [
    "#List all files in the directory and read points from GIF files one by one\n",
    "path = 'image_face_1/'\n",
    "for filePath in sorted(os.listdir(path)):\n",
    "    if filePath.endswith(\".gif\"):\n",
    "        # Read image found.\n",
    "        img = Image.open(os.path.join(path,filePath));\n",
    "        # Convert to floating point\n",
    "        img = img.convert('RGB');\n",
    "        # Add to array of images\n",
    "        outfile = '%s/%s.pgm' % (path, filePath)\n",
    "        img.save(outfile)"
   ]
  },
  {
   "cell_type": "code",
   "execution_count": 3,
   "metadata": {},
   "outputs": [],
   "source": [
    "#List all files in the directory and read points from GIF files one by one\n",
    "path = 'image_face_2/'\n",
    "for filePath in sorted(os.listdir(path)):\n",
    "    if filePath.endswith(\".gif\"):\n",
    "        # Read image found.\n",
    "        img = Image.open(os.path.join(path,filePath));\n",
    "        # Convert to floating point\n",
    "        img = img.convert('RGB');\n",
    "        # Add to array of images\n",
    "        outfile = '%s/%s.pgm' % (path, filePath)\n",
    "        img.save(outfile)"
   ]
  },
  {
   "cell_type": "code",
   "execution_count": 4,
   "metadata": {},
   "outputs": [],
   "source": [
    "#List all files in the directory and read points from GIF files one by one\n",
    "path = 'image_face_3/'\n",
    "for filePath in sorted(os.listdir(path)):\n",
    "    if filePath.endswith(\".gif\"):\n",
    "        # Read image found.\n",
    "        img = Image.open(os.path.join(path,filePath));\n",
    "        # Convert to floating point\n",
    "        img = img.convert('RGB');\n",
    "        # Add to array of images\n",
    "        outfile = '%s/%s.pgm' % (path, filePath)\n",
    "        img.save(outfile)"
   ]
  }
 ],
 "metadata": {
  "kernelspec": {
   "display_name": "Python 3",
   "language": "python",
   "name": "python3"
  },
  "language_info": {
   "codemirror_mode": {
    "name": "ipython",
    "version": 3
   },
   "file_extension": ".py",
   "mimetype": "text/x-python",
   "name": "python",
   "nbconvert_exporter": "python",
   "pygments_lexer": "ipython3",
   "version": "3.6.3"
  }
 },
 "nbformat": 4,
 "nbformat_minor": 2
}
